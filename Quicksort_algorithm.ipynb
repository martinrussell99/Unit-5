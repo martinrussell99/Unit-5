{
 "cells": [
  {
   "cell_type": "markdown",
   "metadata": {},
   "source": [
    "1. Split the the list in half, use \"the median of three\" method, this will be your pivot value\n",
    "2. Set your pivot value variable, and move that item to index[0]\n",
    "3. Border value is number to the right of the pivot, check the number to the right of the border, if it is smaller, move it in front of the border value."
   ]
  },
  {
   "cell_type": "code",
   "execution_count": 68,
   "metadata": {},
   "outputs": [
    {
     "name": "stdout",
     "output_type": "stream",
     "text": [
      "Unsorted: [51746, 463504, 187591, 423579, 389382, 404876, 356570, 190417, 338519, 172824, 354554, 315949, 117556, 342498, 223939, 207584, 339246, 407707, 203981, 145347, 214193, 225682, 149733, 21831, 66270, 336645, 100695, 480282, 127046, 299704, 107184, 152205, 198077, 471185, 351571, 152217, 136822, 465578, 425551, 222459, 428731, 475206, 269586, 45923, 6449, 21380, 362523, 227336, 496011, 470720]\n",
      "sorted:   [6449, 21380, 21831, 45923, 51746, 66270, 100695, 107184, 117556, 127046, 136822, 145347, 149733, 152205, 152217, 172824, 187591, 190417, 198077, 203981, 207584, 214193, 222459, 223939, 225682, 227336, 269586, 299704, 315949, 336645, 338519, 339246, 342498, 351571, 354554, 356570, 362523, 389382, 404876, 407707, 423579, 425551, 428731, 463504, 465578, 470720, 471185, 475206, 480282, 496011]\n"
     ]
    }
   ],
   "source": [
    "from random import randint\n",
    "def create_array(size=50, max=500000):\n",
    "    return[randint(0,max) for _ in range(size)]\n",
    "def partition(a,low,high):\n",
    "    i=low-1\n",
    "    pivot=a[high]\n",
    "    for j in range(low,high):\n",
    "        if a[j]<=pivot:\n",
    "            i+=1\n",
    "            a[i],a[j]=a[j],a[i]\n",
    "    a[i+1],a[high]=a[high],a[i+1]\n",
    "    return i + 1\n",
    "\n",
    "def quicksort_inplace(a, low=0, high=None):\n",
    "      if high==None:\n",
    "          high=len(a)-1\n",
    "      if low<high:\n",
    "          p_idx=partition(a,low,high)\n",
    "          quicksort_inplace(a,low,p_idx-1)\n",
    "          quicksort_inplace(a,p_idx+1,high)\n",
    "a=create_array()\n",
    "print(\"Unsorted:\",a)\n",
    "quicksort_inplace(a)\n",
    "print(\"sorted:  \",a)\n",
    "    \n",
    "            \n",
    "    "
   ]
  },
  {
   "cell_type": "code",
   "execution_count": null,
   "metadata": {},
   "outputs": [],
   "source": []
  }
 ],
 "metadata": {
  "kernelspec": {
   "display_name": "Python 3",
   "language": "python",
   "name": "python3"
  },
  "language_info": {
   "codemirror_mode": {
    "name": "ipython",
    "version": 3
   },
   "file_extension": ".py",
   "mimetype": "text/x-python",
   "name": "python",
   "nbconvert_exporter": "python",
   "pygments_lexer": "ipython3",
   "version": "3.7.1"
  }
 },
 "nbformat": 4,
 "nbformat_minor": 2
}
